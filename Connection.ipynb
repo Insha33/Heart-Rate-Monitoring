{
 "cells": [
  {
   "cell_type": "code",
   "execution_count": 1,
   "metadata": {},
   "outputs": [
    {
     "name": "stderr",
     "output_type": "stream",
     "text": [
      "c:\\Users\\LENOVO\\AppData\\Local\\Programs\\Python\\Python311\\Lib\\site-packages\\sklearn\\metrics\\_classification.py:1471: UndefinedMetricWarning: Precision and F-score are ill-defined and being set to 0.0 in labels with no predicted samples. Use `zero_division` parameter to control this behavior.\n",
      "  _warn_prf(average, modifier, msg_start, len(result))\n",
      "c:\\Users\\LENOVO\\AppData\\Local\\Programs\\Python\\Python311\\Lib\\site-packages\\sklearn\\metrics\\_classification.py:1471: UndefinedMetricWarning: Precision and F-score are ill-defined and being set to 0.0 in labels with no predicted samples. Use `zero_division` parameter to control this behavior.\n",
      "  _warn_prf(average, modifier, msg_start, len(result))\n",
      "c:\\Users\\LENOVO\\AppData\\Local\\Programs\\Python\\Python311\\Lib\\site-packages\\sklearn\\metrics\\_classification.py:1471: UndefinedMetricWarning: Precision and F-score are ill-defined and being set to 0.0 in labels with no predicted samples. Use `zero_division` parameter to control this behavior.\n",
      "  _warn_prf(average, modifier, msg_start, len(result))\n"
     ]
    },
    {
     "name": "stdout",
     "output_type": "stream",
     "text": [
      "              precision    recall  f1-score   support\n",
      "\n",
      "           0       0.64      1.00      0.78      1691\n",
      "           1       0.00      0.00      0.00       938\n",
      "\n",
      "    accuracy                           0.64      2629\n",
      "   macro avg       0.32      0.50      0.39      2629\n",
      "weighted avg       0.41      0.64      0.50      2629\n",
      "\n",
      "Connected to MQTT broker\n",
      "Subscribed to topic: data\n",
      "Received decrypted data: {'age': 22, 'sex': 0, 'diabetes': 0, 'family_history': 0, 'smoking': 0, 'obesity': 0, 'alcohol_consumption': 0, 'diet': 0, 'previous_heart_problems': 0, 'medication_use': 0, 'income': 21000, 'bmi': 22}\n",
      "24\n",
      "<class 'float'>\n",
      "[[22, 0, 24, 0, 0, 0, 0, 0, 0, 0, 0, 21000, 22]]\n",
      "[0]\n",
      "Original data: 24\n",
      "Encrypted data: b\"\\xc5Q\\xd8\\xad\\x9cQ\\xaa\\xf2\\xaf\\xdf\\xdd6r}\\xa03q\\xee[\\xdc_\\xe7&'\\x01u\\xb0\\x02\\x13\\x95\\x95s\\xd1^l\\xed\\xf7\\xc5P%\\xf5\\xa73\\r\\x0e(\\x1d)\"\n"
     ]
    },
    {
     "name": "stderr",
     "output_type": "stream",
     "text": [
      "c:\\Users\\LENOVO\\AppData\\Local\\Programs\\Python\\Python311\\Lib\\site-packages\\sklearn\\base.py:465: UserWarning: X does not have valid feature names, but LogisticRegression was fitted with feature names\n",
      "  warnings.warn(\n"
     ]
    },
    {
     "name": "stdout",
     "output_type": "stream",
     "text": [
      "37\n",
      "65\n",
      "<class 'float'>\n",
      "[[22, 0, 51, 0, 0, 0, 0, 0, 0, 0, 0, 21000, 22]]\n",
      "[0]\n",
      "Original data: 65\n",
      "Encrypted data: b'\\xaeN\\x9bw\\xff\\x17\\xbe\\xf6,\\xa4\\xb8{U<\\x13;\\xf6\\xe9\\x1f\\xf5/\\xf2\\xbf\\xb6\\xa9\\xe7Ov8V\\x8f\\x9a\\xce\\xc0\\xea\\xa0\\x1d\\x1b]\\xabN}b\\xdb=\\xee\\xfbJ'\n"
     ]
    },
    {
     "name": "stderr",
     "output_type": "stream",
     "text": [
      "c:\\Users\\LENOVO\\AppData\\Local\\Programs\\Python\\Python311\\Lib\\site-packages\\sklearn\\base.py:465: UserWarning: X does not have valid feature names, but LogisticRegression was fitted with feature names\n",
      "  warnings.warn(\n"
     ]
    },
    {
     "name": "stdout",
     "output_type": "stream",
     "text": [
      "116\n",
      "85\n",
      "79\n",
      "<class 'float'>\n",
      "[[22, 0, 93, 0, 0, 0, 0, 0, 0, 0, 0, 21000, 22]]\n",
      "[0]\n",
      "Original data: 79\n",
      "Encrypted data: b\"qe\\x8e\\xe4\\xfe[6pY\\xa7n\\xbck\\xfcd\\x19]\\x80\\xb4\\x08'\\x95U\\x1b\\xac\\x98Qa}\\xb1\\x1e\\xf9\\x8b\\x82\\x86\\xf1z'EYd\\xf1\\x90fB@\\x15\\xf7\"\n"
     ]
    },
    {
     "name": "stderr",
     "output_type": "stream",
     "text": [
      "c:\\Users\\LENOVO\\AppData\\Local\\Programs\\Python\\Python311\\Lib\\site-packages\\sklearn\\base.py:465: UserWarning: X does not have valid feature names, but LogisticRegression was fitted with feature names\n",
      "  warnings.warn(\n"
     ]
    },
    {
     "name": "stdout",
     "output_type": "stream",
     "text": [
      "130\n",
      "108\n",
      "70\n",
      "<class 'float'>\n",
      "[[22, 0, 102, 0, 0, 0, 0, 0, 0, 0, 0, 21000, 22]]\n",
      "[0]\n",
      "Original data: 70\n",
      "Encrypted data: b'\\xd9\\x84,\\xfe\\xa1\\xbe\\xd3\\x90\\x02\\xfe\\xe4\\xa0\\xbeQ<\\x9e\"\\x17\\xe6\\xa6Sr\\xb9\\x00\\xf6\\x1c5\\x90\\xe9k\\xb0\\xbd[\\xa55\\xca\\xcf\\x9d\\xa2\\x9azI\\x96\\x07Q\\xf2\\xd8('\n"
     ]
    },
    {
     "name": "stderr",
     "output_type": "stream",
     "text": [
      "c:\\Users\\LENOVO\\AppData\\Local\\Programs\\Python\\Python311\\Lib\\site-packages\\sklearn\\base.py:465: UserWarning: X does not have valid feature names, but LogisticRegression was fitted with feature names\n",
      "  warnings.warn(\n"
     ]
    },
    {
     "name": "stdout",
     "output_type": "stream",
     "text": [
      "147\n",
      "166\n",
      "183\n",
      "<class 'float'>\n",
      "[[22, 0, 165, 0, 0, 0, 0, 0, 0, 0, 0, 21000, 22]]\n",
      "[0]\n",
      "Original data: 183\n",
      "Encrypted data: b'\\xbaK\\xdcS\\xfe\\x1d\\x12l\\xf8\\xcd\\xeb \\xfa\\xf1\\r}\\xa3\\xa6\\x86\\xc0\\xe1*\\xc0S&\\xcc\\xb2\\xde\\x0b\\x91b\\xe4\"F\\xc5n\\rr\\x90\\x88\\x03k\\x16\\x96\\x04M\\xb3a'\n"
     ]
    },
    {
     "name": "stderr",
     "output_type": "stream",
     "text": [
      "c:\\Users\\LENOVO\\AppData\\Local\\Programs\\Python\\Python311\\Lib\\site-packages\\sklearn\\base.py:465: UserWarning: X does not have valid feature names, but LogisticRegression was fitted with feature names\n",
      "  warnings.warn(\n"
     ]
    },
    {
     "name": "stdout",
     "output_type": "stream",
     "text": [
      "151\n",
      "204\n",
      "167\n",
      "<class 'float'>\n",
      "[[22, 0, 174, 0, 0, 0, 0, 0, 0, 0, 0, 21000, 22]]\n",
      "[0]\n",
      "Original data: 167\n",
      "Encrypted data: b\">y\\x92\\x82L)\\xff\\x10\\x97\\xe0\\x86U\\xff\\xe9\\xb1\\x97\\xa52_\\xc3`\\xbc]k\\x99\\xf4\\xdb\\xb0\\xfa'\\x91\\xae\\xd9c\\x18\\x96$h]\\x9a\\xea\\x8b\\x87\\xcajF\\xea\\n\"\n"
     ]
    },
    {
     "name": "stderr",
     "output_type": "stream",
     "text": [
      "c:\\Users\\LENOVO\\AppData\\Local\\Programs\\Python\\Python311\\Lib\\site-packages\\sklearn\\base.py:465: UserWarning: X does not have valid feature names, but LogisticRegression was fitted with feature names\n",
      "  warnings.warn(\n"
     ]
    }
   ],
   "source": [
    "import base64\n",
    "import time\n",
    "from Crypto.Cipher import AES\n",
    "from Crypto.Util.Padding import pad, unpad\n",
    "import paho.mqtt.client as mqtt\n",
    "import serial\n",
    "import pickle\n",
    "import pandas as pd\n",
    "from sklearn.model_selection import train_test_split\n",
    "from sklearn.linear_model import LogisticRegression\n",
    "from sklearn import preprocessing\n",
    "from sklearn.metrics import classification_report\n",
    "import json\n",
    "\n",
    "# Serial port parameters\n",
    "x = serial.Serial('COM4', 9600)  # Change 'COM4' to match your serial port\n",
    "\n",
    "# Encryption parameters\n",
    "key = b'\\xee\\x16\\xfb\\xdf6|\\xe8\\xe4n\\x0b\\xeal\\xb4\\xf1\\x05\\xabk\\xc0\\xe8\\x9a\\xc2\\xe0\\xff8\\x9e\\xd8A\\xa7d\\xfbN\\xf0'\n",
    "iv = b'\\xef?\\x82\\xb5\\xa7\\x89\\x9b\\xeet\\xda\\x8e\\xaa\\xc3\\xd0{\\xe4'\n",
    "cipher = AES.new(key, AES.MODE_CBC, iv=iv)\n",
    "\n",
    "key2 = b'\\xee\\x12\\xfb\\xdf6|\\xe8\\xe4n\\x0b\\xeal\\xb4\\xf1\\x05\\xabk\\xc0\\xe8\\x9a\\xc2\\xe0\\xff8\\x9e\\xd8A\\xa7d\\xfbN\\xf0'\n",
    "iv2 = b'\\xef?\\x81\\xb5\\xa7\\x89\\x9b\\xeet\\xda\\x8e\\xaa\\xc3\\xd0{\\xe4'\n",
    "cipher2 = AES.new(key2, AES.MODE_CBC, iv =iv2)\n",
    "\n",
    "data = pd.read_csv(\"heart_attack_prediction_dataset.csv\")\n",
    "data = data.drop(columns=['Patient ID', 'Blood Pressure', 'Exercise Hours Per Week', 'Sedentary Hours Per Day',  \n",
    "                          'Triglycerides', 'Physical Activity Days Per Week', 'Sleep Hours Per Day', 'Cholesterol', \n",
    "                          'Stress Level', 'Continent', 'Hemisphere', 'Country'])\n",
    "label_encoder = preprocessing.LabelEncoder()\n",
    "data['Sex'] = label_encoder.fit_transform(data['Sex'])\n",
    "data['Diet'] = label_encoder.fit_transform(data['Diet'])\n",
    "X = data.drop('Heart Attack Risk', axis=1)\n",
    "y = data['Heart Attack Risk']\n",
    "\n",
    "# Split the data into training and testing sets\n",
    "X_train, X_test, y_train, y_test = train_test_split(X, y, test_size=0.3, random_state=42)\n",
    "\n",
    "with open(\"final.pkl\", 'rb') as file:  \n",
    "    model = pickle.load(file)\n",
    "    \n",
    "y_predict = model.predict(X_test)\n",
    "\n",
    "# MQTT parameters\n",
    "broker_address = \"localhost\"\n",
    "port = 1883\n",
    "mqtt_topic2 = \"data\"\n",
    "\n",
    "# check results\n",
    "print(classification_report(y_test, y_predict)) \n",
    "age = -1\n",
    "sex = -1\n",
    "diabetes =  -1\n",
    "family_history =  -1\n",
    "smoking =  -1\n",
    "obesity =  -1\n",
    "alcohol_consumption =  -1\n",
    "diet = -1\n",
    "previous_heart_problems = -1\n",
    "medication_use = -1\n",
    "income = -1\n",
    "bmi = -1\n",
    "\n",
    "def on_message(client2, userdata, message):\n",
    "    global age, sex, diabetes, family_history, smoking, obesity, alcohol_consumption, diet, previous_heart_problems, medication_use, income, bmi\n",
    "    try:\n",
    "        # Decode base64 and decrypt the received ciphertext\n",
    "        ciphertext = base64.b64decode(message.payload)\n",
    "        decrypted_data = unpad(cipher2.decrypt(ciphertext), AES.block_size)\n",
    "        \n",
    "        decoded_data = json.loads(decrypted_data.decode('utf-8').strip())  # Adjust the decoding based on your data format\n",
    "        \n",
    "        print(f\"Received decrypted data: {decoded_data}\")\n",
    "        age = decoded_data[\"age\"]\n",
    "        sex = decoded_data[\"sex\"]\n",
    "        diabetes =  decoded_data[\"diabetes\"]\n",
    "        family_history =  decoded_data[\"family_history\"]\n",
    "        smoking =  decoded_data[\"smoking\"]\n",
    "        obesity =  decoded_data[\"obesity\"]\n",
    "        alcohol_consumption =  decoded_data[\"alcohol_consumption\"]\n",
    "        diet = decoded_data[\"diet\"]\n",
    "        previous_heart_problems = decoded_data[\"previous_heart_problems\"]\n",
    "        medication_use = decoded_data[\"medication_use\"]\n",
    "        income = decoded_data[\"income\"]\n",
    "        bmi = decoded_data[\"bmi\"]\n",
    "        client2.loop_stop()\n",
    "    except Exception as e:\n",
    "        print(f\"Error processing message: {e}\")\n",
    "\n",
    "client2 = mqtt.Client(\"sub\")\n",
    "client2.on_message = on_message\n",
    "\n",
    "try:\n",
    "    # Connect to the MQTT Broker\n",
    "    client2.connect(broker_address, port)\n",
    "    print(\"Connected to MQTT broker\")\n",
    "    \n",
    "    # Subscribe to the MQTT topic\n",
    "    client2.subscribe(mqtt_topic2)\n",
    "    print(f\"Subscribed to topic: {mqtt_topic2}\")\n",
    "    \n",
    "    # Start the MQTT loop to listen for messages\n",
    "    client2.loop_start()  # Use loop_forever instead of disconnect()\n",
    "except Exception as e:\n",
    "    print(f\"Error: {e}\")\n",
    "\n",
    "\n",
    "mqtt_topic = \"bpm/data\"\n",
    "client = mqtt.Client(\"Publisher\")\n",
    "client.connect(broker_address, port)\n",
    "client.loop_start()\n",
    "accumulated_data = []\n",
    "start_time = time.time()\n",
    "\n",
    "try:\n",
    "    while x.isOpen():\n",
    "        # Read data from the serial port\n",
    "        data = str(x.readline(), 'utf-8').strip()  # Read and strip any leading/trailing whitespace\n",
    "        print(data)\n",
    "        parsed_data = [int(val) for val in data.split(',')]\n",
    "        accumulated_data.append(parsed_data)\n",
    "        \n",
    "        if time.time() - start_time >= 10:\n",
    "            # Calculate the average of accumulated data\n",
    "            averaged_data = sum(sum(sublist) for sublist in accumulated_data) / len(accumulated_data)\n",
    "            print(type(averaged_data))\n",
    "            test = [[int(age), int(sex), int(averaged_data), int(diabetes), int(family_history), int(smoking), int(obesity), int(alcohol_consumption), int(diet), int(previous_heart_problems), int(medication_use), int(income), int(bmi)]]\n",
    "            print(test)\n",
    "            y_predict = model.predict(test)\n",
    "            print(y_predict)\n",
    "            y_predict_str = ','.join(map(str, y_predict))\n",
    "            \n",
    "            # Serialize the data to JSON format\n",
    "            transfer_data = json.dumps({\"y_predict\": y_predict_str, \"sensor_data\": averaged_data})\n",
    "            \n",
    "            # Encrypt the serialized data\n",
    "            sensor_data = pad(transfer_data.encode('utf-8'), AES.block_size)  # Ensure the data is padded to match AES block size\n",
    "            ciphertext_data = cipher.encrypt(sensor_data)\n",
    "            \n",
    "            # Publish the encrypted data to MQTT\n",
    "            client.publish(mqtt_topic, base64.b64encode(ciphertext_data))\n",
    "            \n",
    "            print(f\"Original data: {averaged_data}\")\n",
    "            print(f\"Encrypted data: {ciphertext_data}\")\n",
    "            # Reset variables for next iteration\n",
    "            accumulated_data = []\n",
    "            start_time = time.time()\n",
    "            \n",
    "        time.sleep(1)  # Adjust the delay as needed\n",
    "finally:\n",
    "    # Close the serial port and disconnect from MQTT\n",
    "    x.close()\n",
    "    client.loop_stop()\n",
    "    client.disconnect()\n",
    "\n"
   ]
  },
  {
   "cell_type": "code",
   "execution_count": null,
   "metadata": {},
   "outputs": [],
   "source": []
  }
 ],
 "metadata": {
  "kernelspec": {
   "display_name": "Python 3",
   "language": "python",
   "name": "python3"
  },
  "language_info": {
   "codemirror_mode": {
    "name": "ipython",
    "version": 3
   },
   "file_extension": ".py",
   "mimetype": "text/x-python",
   "name": "python",
   "nbconvert_exporter": "python",
   "pygments_lexer": "ipython3",
   "version": "3.11.5"
  }
 },
 "nbformat": 4,
 "nbformat_minor": 2
}
