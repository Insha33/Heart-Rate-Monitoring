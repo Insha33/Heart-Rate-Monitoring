{
 "cells": [
  {
   "cell_type": "code",
   "execution_count": 10,
   "metadata": {},
   "outputs": [
    {
     "name": "stdout",
     "output_type": "stream",
     "text": [
      "Decrypted data: 30\n"
     ]
    },
    {
     "ename": "ValueError",
     "evalue": "Padding is incorrect.",
     "output_type": "error",
     "traceback": [
      "\u001b[1;31m---------------------------------------------------------------------------\u001b[0m",
      "\u001b[1;31mValueError\u001b[0m                                Traceback (most recent call last)",
      "\u001b[1;32mc:\\Users\\LENOVO\\Desktop\\rp\\decrypt.ipynb Cell 1\u001b[0m line \u001b[0;36m4\n\u001b[0;32m     <a href='vscode-notebook-cell:/c%3A/Users/LENOVO/Desktop/rp/decrypt.ipynb#W0sZmlsZQ%3D%3D?line=40'>41</a>\u001b[0m client\u001b[39m.\u001b[39msubscribe(mqtt_topic)\n\u001b[0;32m     <a href='vscode-notebook-cell:/c%3A/Users/LENOVO/Desktop/rp/decrypt.ipynb#W0sZmlsZQ%3D%3D?line=42'>43</a>\u001b[0m \u001b[39m# Start the MQTT loop to listen for messages\u001b[39;00m\n\u001b[1;32m---> <a href='vscode-notebook-cell:/c%3A/Users/LENOVO/Desktop/rp/decrypt.ipynb#W0sZmlsZQ%3D%3D?line=43'>44</a>\u001b[0m client\u001b[39m.\u001b[39;49mloop_forever()\n",
      "File \u001b[1;32mc:\\Users\\LENOVO\\AppData\\Local\\Programs\\Python\\Python311\\Lib\\site-packages\\paho\\mqtt\\client.py:1756\u001b[0m, in \u001b[0;36mClient.loop_forever\u001b[1;34m(self, timeout, max_packets, retry_first_connection)\u001b[0m\n\u001b[0;32m   1754\u001b[0m rc \u001b[39m=\u001b[39m MQTT_ERR_SUCCESS\n\u001b[0;32m   1755\u001b[0m \u001b[39mwhile\u001b[39;00m rc \u001b[39m==\u001b[39m MQTT_ERR_SUCCESS:\n\u001b[1;32m-> 1756\u001b[0m     rc \u001b[39m=\u001b[39m \u001b[39mself\u001b[39;49m\u001b[39m.\u001b[39;49m_loop(timeout)\n\u001b[0;32m   1757\u001b[0m     \u001b[39m# We don't need to worry about locking here, because we've\u001b[39;00m\n\u001b[0;32m   1758\u001b[0m     \u001b[39m# either called loop_forever() when in single threaded mode, or\u001b[39;00m\n\u001b[0;32m   1759\u001b[0m     \u001b[39m# in multi threaded mode when loop_stop() has been called and\u001b[39;00m\n\u001b[0;32m   1760\u001b[0m     \u001b[39m# so no other threads can access _out_packet or _messages.\u001b[39;00m\n\u001b[0;32m   1761\u001b[0m     \u001b[39mif\u001b[39;00m (\u001b[39mself\u001b[39m\u001b[39m.\u001b[39m_thread_terminate \u001b[39mis\u001b[39;00m \u001b[39mTrue\u001b[39;00m\n\u001b[0;32m   1762\u001b[0m         \u001b[39mand\u001b[39;00m \u001b[39mlen\u001b[39m(\u001b[39mself\u001b[39m\u001b[39m.\u001b[39m_out_packet) \u001b[39m==\u001b[39m \u001b[39m0\u001b[39m\n\u001b[0;32m   1763\u001b[0m             \u001b[39mand\u001b[39;00m \u001b[39mlen\u001b[39m(\u001b[39mself\u001b[39m\u001b[39m.\u001b[39m_out_messages) \u001b[39m==\u001b[39m \u001b[39m0\u001b[39m):\n",
      "File \u001b[1;32mc:\\Users\\LENOVO\\AppData\\Local\\Programs\\Python\\Python311\\Lib\\site-packages\\paho\\mqtt\\client.py:1164\u001b[0m, in \u001b[0;36mClient._loop\u001b[1;34m(self, timeout)\u001b[0m\n\u001b[0;32m   1161\u001b[0m     \u001b[39mreturn\u001b[39;00m MQTT_ERR_UNKNOWN\n\u001b[0;32m   1163\u001b[0m \u001b[39mif\u001b[39;00m \u001b[39mself\u001b[39m\u001b[39m.\u001b[39m_sock \u001b[39min\u001b[39;00m socklist[\u001b[39m0\u001b[39m] \u001b[39mor\u001b[39;00m pending_bytes \u001b[39m>\u001b[39m \u001b[39m0\u001b[39m:\n\u001b[1;32m-> 1164\u001b[0m     rc \u001b[39m=\u001b[39m \u001b[39mself\u001b[39;49m\u001b[39m.\u001b[39;49mloop_read()\n\u001b[0;32m   1165\u001b[0m     \u001b[39mif\u001b[39;00m rc \u001b[39mor\u001b[39;00m \u001b[39mself\u001b[39m\u001b[39m.\u001b[39m_sock \u001b[39mis\u001b[39;00m \u001b[39mNone\u001b[39;00m:\n\u001b[0;32m   1166\u001b[0m         \u001b[39mreturn\u001b[39;00m rc\n",
      "File \u001b[1;32mc:\\Users\\LENOVO\\AppData\\Local\\Programs\\Python\\Python311\\Lib\\site-packages\\paho\\mqtt\\client.py:1556\u001b[0m, in \u001b[0;36mClient.loop_read\u001b[1;34m(self, max_packets)\u001b[0m\n\u001b[0;32m   1554\u001b[0m \u001b[39mif\u001b[39;00m \u001b[39mself\u001b[39m\u001b[39m.\u001b[39m_sock \u001b[39mis\u001b[39;00m \u001b[39mNone\u001b[39;00m:\n\u001b[0;32m   1555\u001b[0m     \u001b[39mreturn\u001b[39;00m MQTT_ERR_NO_CONN\n\u001b[1;32m-> 1556\u001b[0m rc \u001b[39m=\u001b[39m \u001b[39mself\u001b[39;49m\u001b[39m.\u001b[39;49m_packet_read()\n\u001b[0;32m   1557\u001b[0m \u001b[39mif\u001b[39;00m rc \u001b[39m>\u001b[39m \u001b[39m0\u001b[39m:\n\u001b[0;32m   1558\u001b[0m     \u001b[39mreturn\u001b[39;00m \u001b[39mself\u001b[39m\u001b[39m.\u001b[39m_loop_rc_handle(rc)\n",
      "File \u001b[1;32mc:\\Users\\LENOVO\\AppData\\Local\\Programs\\Python\\Python311\\Lib\\site-packages\\paho\\mqtt\\client.py:2439\u001b[0m, in \u001b[0;36mClient._packet_read\u001b[1;34m(self)\u001b[0m\n\u001b[0;32m   2437\u001b[0m \u001b[39m# All data for this packet is read.\u001b[39;00m\n\u001b[0;32m   2438\u001b[0m \u001b[39mself\u001b[39m\u001b[39m.\u001b[39m_in_packet[\u001b[39m'\u001b[39m\u001b[39mpos\u001b[39m\u001b[39m'\u001b[39m] \u001b[39m=\u001b[39m \u001b[39m0\u001b[39m\n\u001b[1;32m-> 2439\u001b[0m rc \u001b[39m=\u001b[39m \u001b[39mself\u001b[39;49m\u001b[39m.\u001b[39;49m_packet_handle()\n\u001b[0;32m   2441\u001b[0m \u001b[39m# Free data and reset values\u001b[39;00m\n\u001b[0;32m   2442\u001b[0m \u001b[39mself\u001b[39m\u001b[39m.\u001b[39m_in_packet \u001b[39m=\u001b[39m {\n\u001b[0;32m   2443\u001b[0m     \u001b[39m'\u001b[39m\u001b[39mcommand\u001b[39m\u001b[39m'\u001b[39m: \u001b[39m0\u001b[39m,\n\u001b[0;32m   2444\u001b[0m     \u001b[39m'\u001b[39m\u001b[39mhave_remaining\u001b[39m\u001b[39m'\u001b[39m: \u001b[39m0\u001b[39m,\n\u001b[1;32m   (...)\u001b[0m\n\u001b[0;32m   2449\u001b[0m     \u001b[39m'\u001b[39m\u001b[39mto_process\u001b[39m\u001b[39m'\u001b[39m: \u001b[39m0\u001b[39m,\n\u001b[0;32m   2450\u001b[0m     \u001b[39m'\u001b[39m\u001b[39mpos\u001b[39m\u001b[39m'\u001b[39m: \u001b[39m0\u001b[39m}\n",
      "File \u001b[1;32mc:\\Users\\LENOVO\\AppData\\Local\\Programs\\Python\\Python311\\Lib\\site-packages\\paho\\mqtt\\client.py:3033\u001b[0m, in \u001b[0;36mClient._packet_handle\u001b[1;34m(self)\u001b[0m\n\u001b[0;32m   3031\u001b[0m     \u001b[39mreturn\u001b[39;00m \u001b[39mself\u001b[39m\u001b[39m.\u001b[39m_handle_pubackcomp(\u001b[39m\"\u001b[39m\u001b[39mPUBCOMP\u001b[39m\u001b[39m\"\u001b[39m)\n\u001b[0;32m   3032\u001b[0m \u001b[39melif\u001b[39;00m cmd \u001b[39m==\u001b[39m PUBLISH:\n\u001b[1;32m-> 3033\u001b[0m     \u001b[39mreturn\u001b[39;00m \u001b[39mself\u001b[39;49m\u001b[39m.\u001b[39;49m_handle_publish()\n\u001b[0;32m   3034\u001b[0m \u001b[39melif\u001b[39;00m cmd \u001b[39m==\u001b[39m PUBREC:\n\u001b[0;32m   3035\u001b[0m     \u001b[39mreturn\u001b[39;00m \u001b[39mself\u001b[39m\u001b[39m.\u001b[39m_handle_pubrec()\n",
      "File \u001b[1;32mc:\\Users\\LENOVO\\AppData\\Local\\Programs\\Python\\Python311\\Lib\\site-packages\\paho\\mqtt\\client.py:3327\u001b[0m, in \u001b[0;36mClient._handle_publish\u001b[1;34m(self)\u001b[0m\n\u001b[0;32m   3325\u001b[0m message\u001b[39m.\u001b[39mtimestamp \u001b[39m=\u001b[39m time_func()\n\u001b[0;32m   3326\u001b[0m \u001b[39mif\u001b[39;00m message\u001b[39m.\u001b[39mqos \u001b[39m==\u001b[39m \u001b[39m0\u001b[39m:\n\u001b[1;32m-> 3327\u001b[0m     \u001b[39mself\u001b[39;49m\u001b[39m.\u001b[39;49m_handle_on_message(message)\n\u001b[0;32m   3328\u001b[0m     \u001b[39mreturn\u001b[39;00m MQTT_ERR_SUCCESS\n\u001b[0;32m   3329\u001b[0m \u001b[39melif\u001b[39;00m message\u001b[39m.\u001b[39mqos \u001b[39m==\u001b[39m \u001b[39m1\u001b[39m:\n",
      "File \u001b[1;32mc:\\Users\\LENOVO\\AppData\\Local\\Programs\\Python\\Python311\\Lib\\site-packages\\paho\\mqtt\\client.py:3570\u001b[0m, in \u001b[0;36mClient._handle_on_message\u001b[1;34m(self, message)\u001b[0m\n\u001b[0;32m   3568\u001b[0m \u001b[39mwith\u001b[39;00m \u001b[39mself\u001b[39m\u001b[39m.\u001b[39m_in_callback_mutex:\n\u001b[0;32m   3569\u001b[0m     \u001b[39mtry\u001b[39;00m:\n\u001b[1;32m-> 3570\u001b[0m         on_message(\u001b[39mself\u001b[39;49m, \u001b[39mself\u001b[39;49m\u001b[39m.\u001b[39;49m_userdata, message)\n\u001b[0;32m   3571\u001b[0m     \u001b[39mexcept\u001b[39;00m \u001b[39mException\u001b[39;00m \u001b[39mas\u001b[39;00m err:\n\u001b[0;32m   3572\u001b[0m         \u001b[39mself\u001b[39m\u001b[39m.\u001b[39m_easy_log(\n\u001b[0;32m   3573\u001b[0m             MQTT_LOG_ERR, \u001b[39m'\u001b[39m\u001b[39mCaught exception in on_message: \u001b[39m\u001b[39m%s\u001b[39;00m\u001b[39m'\u001b[39m, err)\n",
      "\u001b[1;32mc:\\Users\\LENOVO\\Desktop\\rp\\decrypt.ipynb Cell 1\u001b[0m line \u001b[0;36m2\n\u001b[0;32m     <a href='vscode-notebook-cell:/c%3A/Users/LENOVO/Desktop/rp/decrypt.ipynb#W0sZmlsZQ%3D%3D?line=24'>25</a>\u001b[0m decrypted_data \u001b[39m=\u001b[39m cipher\u001b[39m.\u001b[39mdecrypt(ciphertext)\n\u001b[0;32m     <a href='vscode-notebook-cell:/c%3A/Users/LENOVO/Desktop/rp/decrypt.ipynb#W0sZmlsZQ%3D%3D?line=26'>27</a>\u001b[0m \u001b[39m# Remove the padding to get the original data\u001b[39;00m\n\u001b[1;32m---> <a href='vscode-notebook-cell:/c%3A/Users/LENOVO/Desktop/rp/decrypt.ipynb#W0sZmlsZQ%3D%3D?line=27'>28</a>\u001b[0m original_data \u001b[39m=\u001b[39m unpad(decrypted_data, AES\u001b[39m.\u001b[39;49mblock_size, style\u001b[39m=\u001b[39;49m\u001b[39m'\u001b[39;49m\u001b[39mpkcs7\u001b[39;49m\u001b[39m'\u001b[39;49m)\u001b[39m.\u001b[39mdecode(\u001b[39m'\u001b[39m\u001b[39mutf-8\u001b[39m\u001b[39m'\u001b[39m)\n\u001b[0;32m     <a href='vscode-notebook-cell:/c%3A/Users/LENOVO/Desktop/rp/decrypt.ipynb#W0sZmlsZQ%3D%3D?line=29'>30</a>\u001b[0m \u001b[39mprint\u001b[39m(\u001b[39mf\u001b[39m\u001b[39m\"\u001b[39m\u001b[39mDecrypted data: \u001b[39m\u001b[39m{\u001b[39;00moriginal_data\u001b[39m}\u001b[39;00m\u001b[39m\"\u001b[39m)\n",
      "File \u001b[1;32mc:\\Users\\LENOVO\\AppData\\Local\\Programs\\Python\\Python311\\Lib\\site-packages\\Crypto\\Util\\Padding.py:92\u001b[0m, in \u001b[0;36munpad\u001b[1;34m(padded_data, block_size, style)\u001b[0m\n\u001b[0;32m     90\u001b[0m padding_len \u001b[39m=\u001b[39m bord(padded_data[\u001b[39m-\u001b[39m\u001b[39m1\u001b[39m])\n\u001b[0;32m     91\u001b[0m \u001b[39mif\u001b[39;00m padding_len\u001b[39m<\u001b[39m\u001b[39m1\u001b[39m \u001b[39mor\u001b[39;00m padding_len\u001b[39m>\u001b[39m\u001b[39mmin\u001b[39m(block_size, pdata_len):\n\u001b[1;32m---> 92\u001b[0m     \u001b[39mraise\u001b[39;00m \u001b[39mValueError\u001b[39;00m(\u001b[39m\"\u001b[39m\u001b[39mPadding is incorrect.\u001b[39m\u001b[39m\"\u001b[39m)\n\u001b[0;32m     93\u001b[0m \u001b[39mif\u001b[39;00m style \u001b[39m==\u001b[39m \u001b[39m'\u001b[39m\u001b[39mpkcs7\u001b[39m\u001b[39m'\u001b[39m:\n\u001b[0;32m     94\u001b[0m     \u001b[39mif\u001b[39;00m padded_data[\u001b[39m-\u001b[39mpadding_len:]\u001b[39m!=\u001b[39mbchr(padding_len)\u001b[39m*\u001b[39mpadding_len:\n",
      "\u001b[1;31mValueError\u001b[0m: Padding is incorrect."
     ]
    }
   ],
   "source": [
    "import base64\n",
    "from Crypto.Cipher import AES\n",
    "from Crypto.Util.Padding import unpad\n",
    "import paho.mqtt.client as mqtt\n",
    "\n",
    "key = b'\\xee\\x16\\xfb\\xdf6|\\xe8\\xe4n\\x0b\\xeal\\xb4\\xf1\\x05\\xabk\\xc0\\xe8\\x9a\\xc2\\xe0\\xff8\\x9e\\xd8A\\xa7d\\xfbN\\xf0'  # Ensure this is the same key used for encryption\n",
    "iv = b'\\xef?\\x82\\xb5\\xa7\\x89\\x9b\\xeet\\xda\\x8e\\xaa\\xc3\\xd0{\\xe4'   # Ensure this is the same IV used for encryption\n",
    "\n",
    "# MQTT Broker Settings\n",
    "broker_address = \"localhost\"  # Use \"localhost\" if Mosquitto is running locally\n",
    "port = 1883  # Default MQTT port\n",
    "\n",
    "# MQTT Topic to Subscribe to\n",
    "mqtt_topic = \"bpm/data\"  # Customize the topic to match the publisher\n",
    "\n",
    "# MQTT Client Initialization\n",
    "client = mqtt.Client(\"Subscriber\")\n",
    "\n",
    "# Callback function when a message is received\n",
    "def on_message(client, userdata, message):\n",
    "    ciphertext = base64.b64decode(message.payload)  # Decode the received message\n",
    "\n",
    "    # Decrypt the received ciphertext using the received key and IV\n",
    "    cipher = AES.new(key, AES.MODE_CBC, iv)\n",
    "    decrypted_data = cipher.decrypt(ciphertext)\n",
    "\n",
    "    # Remove the padding to get the original data\n",
    "    original_data = unpad(decrypted_data, AES.block_size, style='pkcs7').decode('utf-8')\n",
    "\n",
    "    print(f\"Decrypted data: {original_data}\")\n",
    "\n",
    "\n",
    "\n",
    "# Set the message received callback function\n",
    "client.on_message = on_message\n",
    "\n",
    "# Connect to the MQTT Broker\n",
    "client.connect(broker_address, port)\n",
    "\n",
    "# Subscribe to the MQTT topic\n",
    "client.subscribe(mqtt_topic)\n",
    "\n",
    "# Start the MQTT loop to listen for messages\n",
    "client.loop_forever()\n"
   ]
  },
  {
   "cell_type": "code",
   "execution_count": null,
   "metadata": {},
   "outputs": [],
   "source": []
  }
 ],
 "metadata": {
  "kernelspec": {
   "display_name": "Python 3",
   "language": "python",
   "name": "python3"
  },
  "language_info": {
   "codemirror_mode": {
    "name": "ipython",
    "version": 3
   },
   "file_extension": ".py",
   "mimetype": "text/x-python",
   "name": "python",
   "nbconvert_exporter": "python",
   "pygments_lexer": "ipython3",
   "version": "3.11.5"
  }
 },
 "nbformat": 4,
 "nbformat_minor": 2
}
