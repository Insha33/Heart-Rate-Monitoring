{
 "cells": [
  {
   "cell_type": "code",
   "execution_count": 1,
   "metadata": {},
   "outputs": [],
   "source": [
    "import serial\n",
    "from Crypto.Cipher import AES\n",
    "from Crypto.Random import get_random_bytes\n",
    "from Crypto.Util.Padding import pad\n",
    "import paho.mqtt.client as mqtt\n",
    "import base64\n",
    "\n",
    "# data_to_send=[]\n"
   ]
  },
  {
   "cell_type": "code",
   "execution_count": 2,
   "metadata": {},
   "outputs": [
    {
     "data": {
      "text/plain": [
       "0"
      ]
     },
     "execution_count": 2,
     "metadata": {},
     "output_type": "execute_result"
    }
   ],
   "source": [
    "\n",
    "x = serial.Serial('COM8', 9600)\n",
    "\n",
    "key = b'\\xee\\x16\\xfb\\xdf6|\\xe8\\xe4n\\x0b\\xeal\\xb4\\xf1\\x05\\xabk\\xc0\\xe8\\x9a\\xc2\\xe0\\xff8\\x9e\\xd8A\\xa7d\\xfbN\\xf0'\n",
    "iv = b'\\xef?\\x82\\xb5\\xa7\\x89\\x9b\\xeet\\xda\\x8e\\xaa\\xc3\\xd0{\\xe4'\n",
    "cipher = AES.new(key, AES.MODE_CBC, iv=iv)\n",
    "# data_to_send.append(key)\n",
    "# data_to_send.append(iv)\n",
    "# print(cipher)\n",
    "# print(key)\n",
    "# print(iv)\n",
    "    \n",
    "broker_address = \"localhost\"  # Use \"localhost\" if Mosquitto is running locally\n",
    "port = 1883  # Default MQTT port\n",
    "\n",
    "# MQTT Topic to Publish to (should match the topic the subscriber is listening to)\n",
    "mqtt_topic = \"bpm/data\"  # Customize the topic to match the subscriber\n",
    "\n",
    "# MQTT Client Initialization\n",
    "client = mqtt.Client(\"Publisher\")\n",
    "\n",
    "# Connect to the MQTT Broker\n",
    "client.connect(broker_address, port)\n",
    "\n"
   ]
  },
  {
   "cell_type": "code",
   "execution_count": 3,
   "metadata": {},
   "outputs": [
    {
     "name": "stdout",
     "output_type": "stream",
     "text": [
      "b'30'\n",
      "<class 'bytes'>\n",
      "b'32'\n",
      "<class 'bytes'>\n",
      "b'34'\n",
      "<class 'bytes'>\n",
      "b'37'\n",
      "<class 'bytes'>\n",
      "b'41'\n",
      "<class 'bytes'>\n",
      "b'46'\n",
      "<class 'bytes'>\n",
      "b'53'\n",
      "<class 'bytes'>\n",
      "b'60'\n",
      "<class 'bytes'>\n",
      "b'70'\n",
      "<class 'bytes'>\n"
     ]
    }
   ],
   "source": [
    "\n",
    "while x.isOpen():\n",
    "    data = str(x.readline(), 'utf-8').rstrip()  # Read data as bytes and decode it to a string\n",
    "    numeric_data = ''.join(filter(str.isdigit, data))  # Extract only numeric characters\n",
    "    numeric_data = bytes(numeric_data, 'utf-8')\n",
    "    print(numeric_data)\n",
    "    \n",
    "    with open('encrypted_heart_rate_data.bin', 'wb') as encrypted_file:\n",
    "        sensor_data = pad(numeric_data, AES.block_size, style='pkcs7')  # Ensure the data is a multiple of 16 bytes (block size)\n",
    "        ciphertext = cipher.encrypt(sensor_data)\n",
    "       # data_to_send.append(ciphertext)\n",
    "       \n",
    "        print(type(ciphertext))\n",
    "        # Write the encrypted data to the file\n",
    "        encrypted_file.write(ciphertext)\n",
    "\n",
    "    # Publish a message\n",
    "    client.publish(mqtt_topic, base64.b64encode(ciphertext))  # Modify the message to suit your data\n",
    "\n",
    "client.loop_forever()\n",
    "    "
   ]
  },
  {
   "cell_type": "code",
   "execution_count": null,
   "metadata": {},
   "outputs": [],
   "source": []
  }
 ],
 "metadata": {
  "kernelspec": {
   "display_name": "Python 3",
   "language": "python",
   "name": "python3"
  },
  "language_info": {
   "codemirror_mode": {
    "name": "ipython",
    "version": 3
   },
   "file_extension": ".py",
   "mimetype": "text/x-python",
   "name": "python",
   "nbconvert_exporter": "python",
   "pygments_lexer": "ipython3",
   "version": "3.11.5"
  }
 },
 "nbformat": 4,
 "nbformat_minor": 2
}
